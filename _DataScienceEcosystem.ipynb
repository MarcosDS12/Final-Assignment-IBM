{
 "cells": [
  {
   "cell_type": "markdown",
   "id": "fa4cdddc-4fda-4e42-902f-875a75986b80",
   "metadata": {},
   "source": [
    "# Data Science Tools and Ecosystem"
   ]
  },
  {
   "cell_type": "markdown",
   "id": "514eb5ca-39c3-4b4b-ac3d-af6c07e526e6",
   "metadata": {},
   "source": [
    "### En este cuaderno, se resumen las herramientas y ecosistemas de ciencia de datos."
   ]
  },
  {
   "cell_type": "markdown",
   "id": "a37be288-bdd3-4d14-af24-b06118b153d5",
   "metadata": {},
   "source": [
    "**Objetivos:**\n",
    "- Listar lenguajes populares para Ciencia de Datos.\n",
    "- Listar bibliotecas populares para Ciencia de Datos.\n",
    "- Listar en una tabla las herramientas populares de Ciencia de Datos.\n",
    "- Prensentar ejemplos de evaluación de expresiones aritméticas de Python."
   ]
  },
  {
   "cell_type": "markdown",
   "id": "d09b63e9-4fea-4e49-a493-9960eb7e204c",
   "metadata": {},
   "source": [
    "#### Algunos de los lenguajes populares que utilizan los científicos de datos son:\n",
    "1. Python\n",
    "2. R\n",
    "3. SQL\n",
    "4. Julia\n",
    "5. Java"
   ]
  },
  {
   "cell_type": "markdown",
   "id": "cde4866b-7792-4147-b593-173dd0b97ed6",
   "metadata": {},
   "source": [
    "#### Algunas de las bibliotecas comúnmente utilizadas por los científicos de datos incluyen:\n",
    "1. TensorFlow\n",
    "2. PyTorch\n",
    "3. Apache Spark\n",
    "4. Keras"
   ]
  },
  {
   "cell_type": "markdown",
   "id": "c56e5701-b480-4248-9f25-ad1b0aaca476",
   "metadata": {},
   "source": [
    "|Herramientas de Ciencia de Datos|\n",
    "|--------------------------------|\n",
    "|Jupyter Notebooks|\n",
    "|Apache Spark|\n",
    "|Power BI|"
   ]
  },
  {
   "cell_type": "markdown",
   "id": "6bbd114a-6809-4d37-a180-d1c65aca2a71",
   "metadata": {},
   "source": [
    "### A continuación, se presentan algunos ejemplos de evaluación de expresiones aritméticas en Python.\n"
   ]
  },
  {
   "cell_type": "code",
   "execution_count": 16,
   "id": "42f355d9-fbc3-431c-91c6-4e630b43bd96",
   "metadata": {},
   "outputs": [
    {
     "data": {
      "text/plain": [
       "17"
      ]
     },
     "execution_count": 16,
     "metadata": {},
     "output_type": "execute_result"
    }
   ],
   "source": [
    "# Esta es una expresión aritmética simple para multiplicar y luego sumar enteros:\n",
    "(3*4)+5"
   ]
  },
  {
   "cell_type": "code",
   "execution_count": 20,
   "id": "8fd6651a-1ea0-44ac-a6fe-ec8fa9e77ebe",
   "metadata": {},
   "outputs": [
    {
     "data": {
      "text/plain": [
       "3.3333333333333335"
      ]
     },
     "execution_count": 20,
     "metadata": {},
     "output_type": "execute_result"
    }
   ],
   "source": [
    "# Esto convertirá 200 minutos a horas dividiendo por 60\n",
    "200/60"
   ]
  },
  {
   "cell_type": "markdown",
   "id": "b05f6448-26d2-4214-8c7e-5191e8bcf582",
   "metadata": {},
   "source": [
    "## Autor:\n",
    "Marcos Birchner"
   ]
  }
 ],
 "metadata": {
  "kernelspec": {
   "display_name": "Python [conda env:base] *",
   "language": "python",
   "name": "conda-base-py"
  },
  "language_info": {
   "codemirror_mode": {
    "name": "ipython",
    "version": 3
   },
   "file_extension": ".py",
   "mimetype": "text/x-python",
   "name": "python",
   "nbconvert_exporter": "python",
   "pygments_lexer": "ipython3",
   "version": "3.12.7"
  }
 },
 "nbformat": 4,
 "nbformat_minor": 5
}
